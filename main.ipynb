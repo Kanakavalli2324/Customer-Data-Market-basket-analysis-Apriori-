{
 "cells": [
  {
   "cell_type": "markdown",
   "id": "02f5f8ca",
   "metadata": {},
   "source": [
    "Market Basket Analysis"
   ]
  },
  {
   "cell_type": "markdown",
   "id": "b5583acf",
   "metadata": {},
   "source": [
    "loading all packages"
   ]
  },
  {
   "cell_type": "code",
   "execution_count": 28,
   "id": "1e68b2a8",
   "metadata": {},
   "outputs": [],
   "source": [
    "import numpy as np\n",
    "import pandas as pd\n",
    "import matplotlib.pyplot as plt\n",
    "import seaborn as sns\n",
    "from mlxtend.frequent_patterns import apriori,association_rules\n",
    "from mlxtend.preprocessing import TransactionEncoder\n",
    "import networkx as nx"
   ]
  },
  {
   "cell_type": "markdown",
   "id": "e87482f9",
   "metadata": {},
   "source": [
    "Read data"
   ]
  },
  {
   "cell_type": "code",
   "execution_count": 3,
   "id": "9d848c9b",
   "metadata": {},
   "outputs": [
    {
     "data": {
      "text/html": [
       "<div>\n",
       "<style scoped>\n",
       "    .dataframe tbody tr th:only-of-type {\n",
       "        vertical-align: middle;\n",
       "    }\n",
       "\n",
       "    .dataframe tbody tr th {\n",
       "        vertical-align: top;\n",
       "    }\n",
       "\n",
       "    .dataframe thead th {\n",
       "        text-align: right;\n",
       "    }\n",
       "</style>\n",
       "<table border=\"1\" class=\"dataframe\">\n",
       "  <thead>\n",
       "    <tr style=\"text-align: right;\">\n",
       "      <th></th>\n",
       "      <th>User_ID</th>\n",
       "      <th>Product_ID</th>\n",
       "      <th>Gender</th>\n",
       "      <th>Age</th>\n",
       "      <th>Occupation</th>\n",
       "      <th>City_Category</th>\n",
       "      <th>Stay_In_Current_City_Years</th>\n",
       "      <th>Marital_Status</th>\n",
       "      <th>Product_Category</th>\n",
       "      <th>Purchase</th>\n",
       "    </tr>\n",
       "  </thead>\n",
       "  <tbody>\n",
       "    <tr>\n",
       "      <th>0</th>\n",
       "      <td>1000001</td>\n",
       "      <td>P00069042</td>\n",
       "      <td>F</td>\n",
       "      <td>0-17</td>\n",
       "      <td>10</td>\n",
       "      <td>A</td>\n",
       "      <td>2</td>\n",
       "      <td>0</td>\n",
       "      <td>3</td>\n",
       "      <td>8370</td>\n",
       "    </tr>\n",
       "    <tr>\n",
       "      <th>1</th>\n",
       "      <td>1000001</td>\n",
       "      <td>P00248942</td>\n",
       "      <td>F</td>\n",
       "      <td>0-17</td>\n",
       "      <td>10</td>\n",
       "      <td>A</td>\n",
       "      <td>2</td>\n",
       "      <td>0</td>\n",
       "      <td>1</td>\n",
       "      <td>15200</td>\n",
       "    </tr>\n",
       "    <tr>\n",
       "      <th>2</th>\n",
       "      <td>1000001</td>\n",
       "      <td>P00087842</td>\n",
       "      <td>F</td>\n",
       "      <td>0-17</td>\n",
       "      <td>10</td>\n",
       "      <td>A</td>\n",
       "      <td>2</td>\n",
       "      <td>0</td>\n",
       "      <td>12</td>\n",
       "      <td>1422</td>\n",
       "    </tr>\n",
       "    <tr>\n",
       "      <th>3</th>\n",
       "      <td>1000001</td>\n",
       "      <td>P00085442</td>\n",
       "      <td>F</td>\n",
       "      <td>0-17</td>\n",
       "      <td>10</td>\n",
       "      <td>A</td>\n",
       "      <td>2</td>\n",
       "      <td>0</td>\n",
       "      <td>12</td>\n",
       "      <td>1057</td>\n",
       "    </tr>\n",
       "    <tr>\n",
       "      <th>4</th>\n",
       "      <td>1000002</td>\n",
       "      <td>P00285442</td>\n",
       "      <td>M</td>\n",
       "      <td>55+</td>\n",
       "      <td>16</td>\n",
       "      <td>C</td>\n",
       "      <td>4+</td>\n",
       "      <td>0</td>\n",
       "      <td>8</td>\n",
       "      <td>7969</td>\n",
       "    </tr>\n",
       "  </tbody>\n",
       "</table>\n",
       "</div>"
      ],
      "text/plain": [
       "   User_ID Product_ID Gender   Age  Occupation City_Category  \\\n",
       "0  1000001  P00069042      F  0-17          10             A   \n",
       "1  1000001  P00248942      F  0-17          10             A   \n",
       "2  1000001  P00087842      F  0-17          10             A   \n",
       "3  1000001  P00085442      F  0-17          10             A   \n",
       "4  1000002  P00285442      M   55+          16             C   \n",
       "\n",
       "  Stay_In_Current_City_Years  Marital_Status  Product_Category  Purchase  \n",
       "0                          2               0                 3      8370  \n",
       "1                          2               0                 1     15200  \n",
       "2                          2               0                12      1422  \n",
       "3                          2               0                12      1057  \n",
       "4                         4+               0                 8      7969  "
      ]
     },
     "execution_count": 3,
     "metadata": {},
     "output_type": "execute_result"
    }
   ],
   "source": [
    "data=pd.read_csv('walmart.csv')\n",
    "data.head()"
   ]
  },
  {
   "cell_type": "markdown",
   "id": "d2f2f28a",
   "metadata": {},
   "source": [
    "Grouping by the users and the product they bought\n"
   ]
  },
  {
   "cell_type": "code",
   "execution_count": 6,
   "id": "c214b3d6",
   "metadata": {},
   "outputs": [],
   "source": [
    "items=data.groupby('User_ID')['Product_ID'].apply(list).reset_index()\n"
   ]
  },
  {
   "cell_type": "code",
   "execution_count": 7,
   "id": "9e024b9c",
   "metadata": {},
   "outputs": [
    {
     "data": {
      "text/html": [
       "<div>\n",
       "<style scoped>\n",
       "    .dataframe tbody tr th:only-of-type {\n",
       "        vertical-align: middle;\n",
       "    }\n",
       "\n",
       "    .dataframe tbody tr th {\n",
       "        vertical-align: top;\n",
       "    }\n",
       "\n",
       "    .dataframe thead th {\n",
       "        text-align: right;\n",
       "    }\n",
       "</style>\n",
       "<table border=\"1\" class=\"dataframe\">\n",
       "  <thead>\n",
       "    <tr style=\"text-align: right;\">\n",
       "      <th></th>\n",
       "      <th>User_ID</th>\n",
       "      <th>Product_ID</th>\n",
       "    </tr>\n",
       "  </thead>\n",
       "  <tbody>\n",
       "    <tr>\n",
       "      <th>0</th>\n",
       "      <td>1000001</td>\n",
       "      <td>[P00069042, P00248942, P00087842, P00085442, P...</td>\n",
       "    </tr>\n",
       "    <tr>\n",
       "      <th>1</th>\n",
       "      <td>1000002</td>\n",
       "      <td>[P00285442, P00112842, P00293242, P00289342, P...</td>\n",
       "    </tr>\n",
       "    <tr>\n",
       "      <th>2</th>\n",
       "      <td>1000003</td>\n",
       "      <td>[P00193542, P00132842, P0098342, P00010242, P0...</td>\n",
       "    </tr>\n",
       "    <tr>\n",
       "      <th>3</th>\n",
       "      <td>1000004</td>\n",
       "      <td>[P00184942, P00346142, P0097242, P00046742, P0...</td>\n",
       "    </tr>\n",
       "    <tr>\n",
       "      <th>4</th>\n",
       "      <td>1000005</td>\n",
       "      <td>[P00274942, P00251242, P00014542, P00031342, P...</td>\n",
       "    </tr>\n",
       "    <tr>\n",
       "      <th>...</th>\n",
       "      <td>...</td>\n",
       "      <td>...</td>\n",
       "    </tr>\n",
       "    <tr>\n",
       "      <th>5886</th>\n",
       "      <td>1006036</td>\n",
       "      <td>[P00237642, P00250342, P00173242, P00255342, P...</td>\n",
       "    </tr>\n",
       "    <tr>\n",
       "      <th>5887</th>\n",
       "      <td>1006037</td>\n",
       "      <td>[P00067342, P00111842, P00323642, P00177442, P...</td>\n",
       "    </tr>\n",
       "    <tr>\n",
       "      <th>5888</th>\n",
       "      <td>1006038</td>\n",
       "      <td>[P00034742, P00251242, P00086042, P00109542, P...</td>\n",
       "    </tr>\n",
       "    <tr>\n",
       "      <th>5889</th>\n",
       "      <td>1006039</td>\n",
       "      <td>[P00114042, P00199442, P00088542, P00254242, P...</td>\n",
       "    </tr>\n",
       "    <tr>\n",
       "      <th>5890</th>\n",
       "      <td>1006040</td>\n",
       "      <td>[P00184042, P00158742, P00001742, P00148642, P...</td>\n",
       "    </tr>\n",
       "  </tbody>\n",
       "</table>\n",
       "<p>5891 rows × 2 columns</p>\n",
       "</div>"
      ],
      "text/plain": [
       "      User_ID                                         Product_ID\n",
       "0     1000001  [P00069042, P00248942, P00087842, P00085442, P...\n",
       "1     1000002  [P00285442, P00112842, P00293242, P00289342, P...\n",
       "2     1000003  [P00193542, P00132842, P0098342, P00010242, P0...\n",
       "3     1000004  [P00184942, P00346142, P0097242, P00046742, P0...\n",
       "4     1000005  [P00274942, P00251242, P00014542, P00031342, P...\n",
       "...       ...                                                ...\n",
       "5886  1006036  [P00237642, P00250342, P00173242, P00255342, P...\n",
       "5887  1006037  [P00067342, P00111842, P00323642, P00177442, P...\n",
       "5888  1006038  [P00034742, P00251242, P00086042, P00109542, P...\n",
       "5889  1006039  [P00114042, P00199442, P00088542, P00254242, P...\n",
       "5890  1006040  [P00184042, P00158742, P00001742, P00148642, P...\n",
       "\n",
       "[5891 rows x 2 columns]"
      ]
     },
     "execution_count": 7,
     "metadata": {},
     "output_type": "execute_result"
    }
   ],
   "source": [
    "items"
   ]
  },
  {
   "cell_type": "code",
   "execution_count": 8,
   "id": "800180aa",
   "metadata": {},
   "outputs": [],
   "source": [
    "transactions = items['Product_ID'].tolist()"
   ]
  },
  {
   "cell_type": "markdown",
   "id": "b6115273",
   "metadata": {},
   "source": [
    "Encoding the transaction as true or false(binary result) for the apriori to work(preprocessing for apriori)"
   ]
  },
  {
   "cell_type": "code",
   "execution_count": 12,
   "id": "b698fee8",
   "metadata": {},
   "outputs": [],
   "source": [
    "tde=TransactionEncoder()\n",
    "tde_data=tde.fit(transactions).transform(transactions)\n",
    "tde_df=pd.DataFrame(tde_data,columns=tde.columns_)"
   ]
  },
  {
   "cell_type": "markdown",
   "id": "d0697a15",
   "metadata": {},
   "source": [
    "Apllication of Apriori"
   ]
  },
  {
   "cell_type": "code",
   "execution_count": 21,
   "id": "495d678a",
   "metadata": {},
   "outputs": [
    {
     "data": {
      "text/plain": [
       "2148"
      ]
     },
     "execution_count": 21,
     "metadata": {},
     "output_type": "execute_result"
    }
   ],
   "source": [
    "item_set= apriori(tde_df,min_support=0.05,use_colnames=True)\n",
    "item_set.shape[0]"
   ]
  },
  {
   "cell_type": "markdown",
   "id": "88d2a929",
   "metadata": {},
   "source": [
    "Understand :\n",
    "Support - how many an item should occurs in the total num of transaction (num/total transaction) to get included\n",
    "Confidence - how likly two product are bought together(support of xuy/support of x)\n",
    "Lift - how likly 2 item are bought together than being bought individually(>1 more of positive correlation <1 more of negative correlation =1 indicates individual)\n",
    "\n"
   ]
  },
  {
   "cell_type": "markdown",
   "id": "3dfc5f01",
   "metadata": {},
   "source": [
    "Interpretation:\n",
    "Here we have applied a minimum threshold of 5% meaning if the item appear atleast 5% of the total no of transactions then it enters the itemset else omitted from entire process"
   ]
  },
  {
   "cell_type": "markdown",
   "id": "668148a5",
   "metadata": {},
   "source": [
    "Acquiring rule set"
   ]
  },
  {
   "cell_type": "code",
   "execution_count": 27,
   "id": "ba514ac3",
   "metadata": {},
   "outputs": [
    {
     "name": "stdout",
     "output_type": "stream",
     "text": [
      "Association Rules: 7\n"
     ]
    },
    {
     "data": {
      "text/html": [
       "<div>\n",
       "<style scoped>\n",
       "    .dataframe tbody tr th:only-of-type {\n",
       "        vertical-align: middle;\n",
       "    }\n",
       "\n",
       "    .dataframe tbody tr th {\n",
       "        vertical-align: top;\n",
       "    }\n",
       "\n",
       "    .dataframe thead th {\n",
       "        text-align: right;\n",
       "    }\n",
       "</style>\n",
       "<table border=\"1\" class=\"dataframe\">\n",
       "  <thead>\n",
       "    <tr style=\"text-align: right;\">\n",
       "      <th></th>\n",
       "      <th>antecedents</th>\n",
       "      <th>consequents</th>\n",
       "      <th>support</th>\n",
       "      <th>confidence</th>\n",
       "      <th>lift</th>\n",
       "    </tr>\n",
       "  </thead>\n",
       "  <tbody>\n",
       "    <tr>\n",
       "      <th>22</th>\n",
       "      <td>(P00057642, P00025442)</td>\n",
       "      <td>(P00110742)</td>\n",
       "      <td>0.050416</td>\n",
       "      <td>0.508562</td>\n",
       "      <td>1.858521</td>\n",
       "    </tr>\n",
       "    <tr>\n",
       "      <th>23</th>\n",
       "      <td>(P00112142, P00025442)</td>\n",
       "      <td>(P00110742)</td>\n",
       "      <td>0.054660</td>\n",
       "      <td>0.510301</td>\n",
       "      <td>1.864878</td>\n",
       "    </tr>\n",
       "    <tr>\n",
       "      <th>24</th>\n",
       "      <td>(P00237542, P00025442)</td>\n",
       "      <td>(P00110742)</td>\n",
       "      <td>0.050246</td>\n",
       "      <td>0.512111</td>\n",
       "      <td>1.871491</td>\n",
       "    </tr>\n",
       "    <tr>\n",
       "      <th>25</th>\n",
       "      <td>(P00110742, P00237542)</td>\n",
       "      <td>(P00025442)</td>\n",
       "      <td>0.050246</td>\n",
       "      <td>0.522046</td>\n",
       "      <td>1.904255</td>\n",
       "    </tr>\n",
       "    <tr>\n",
       "      <th>26</th>\n",
       "      <td>(P00145042, P00057642)</td>\n",
       "      <td>(P00270942)</td>\n",
       "      <td>0.051095</td>\n",
       "      <td>0.500832</td>\n",
       "      <td>2.561112</td>\n",
       "    </tr>\n",
       "  </tbody>\n",
       "</table>\n",
       "</div>"
      ],
      "text/plain": [
       "               antecedents  consequents   support  confidence      lift\n",
       "22  (P00057642, P00025442)  (P00110742)  0.050416    0.508562  1.858521\n",
       "23  (P00112142, P00025442)  (P00110742)  0.054660    0.510301  1.864878\n",
       "24  (P00237542, P00025442)  (P00110742)  0.050246    0.512111  1.871491\n",
       "25  (P00110742, P00237542)  (P00025442)  0.050246    0.522046  1.904255\n",
       "26  (P00145042, P00057642)  (P00270942)  0.051095    0.500832  2.561112"
      ]
     },
     "execution_count": 27,
     "metadata": {},
     "output_type": "execute_result"
    }
   ],
   "source": [
    "rules=association_rules(item_set,metric='confidence',min_threshold=0.5)\n",
    "rules=rules[rules['antecedents'].apply(lambda x:len(x)>=2)& rules['consequents'].apply(lambda x:len(x)>=1)]\n",
    "print(\"Association Rules:\", rules.shape[0])\n",
    "rules[['antecedents', 'consequents', 'support', 'confidence', 'lift']].head(5)"
   ]
  },
  {
   "cell_type": "markdown",
   "id": "059b45fa",
   "metadata": {},
   "source": [
    "Understand:\n",
    "rule : milk->bread shows a support of 0.05 or more than our min support , having a confidence greater than the min threshold \n",
    "here milk -antecedant, bread - consequents"
   ]
  },
  {
   "cell_type": "markdown",
   "id": "3372a8b2",
   "metadata": {},
   "source": [
    "Interpretation:\n",
    "here we paired up min of 2 antecedant to a min of 1 consequent,and set our minimum confidence threshold as 50%"
   ]
  },
  {
   "cell_type": "markdown",
   "id": "54e1e1fe",
   "metadata": {},
   "source": [
    "Visualization of the products that usually bought together"
   ]
  },
  {
   "cell_type": "code",
   "execution_count": 30,
   "id": "daae72bc",
   "metadata": {},
   "outputs": [
    {
     "data": {
      "image/png": "[encoded data removed]",
      "text/plain": [
       "<Figure size 1000x600 with 1 Axes>"
      ]
     },
     "metadata": {},
     "output_type": "display_data"
    }
   ],
   "source": [
    "G=nx.Graph()\n",
    "for _, row in rules.iterrows():\n",
    "    antecedents = list(row['antecedents'])\n",
    "    consequents = list(row['consequents'])\n",
    "    confidence = row['confidence']\n",
    "    G.add_edge(tuple(antecedents), tuple(consequents), weight=confidence)\n",
    "plt.figure(figsize=(10, 6))\n",
    "pos = nx.spring_layout(G, k=0.5)\n",
    "nx.draw(G, pos, with_labels=True, node_size=2000, node_color='lightblue', font_size=10, font_color='black', edge_color='gray', width=1.5)\n",
    "# edge_labels = nx.get_edge_attributes(G, 'weight')\n",
    "edge_labels = {(u, v): f\"{d['weight']:.2f}\" for u, v, d in G.edges(data=True)}   \n",
    "nx.draw_networkx_edge_labels(G, pos, edge_labels=edge_labels, font_color='red', font_size=8)\n",
    "plt.title('Association Rules Network')\n",
    "plt.show()\n"
   ]
  }
 ],
 "metadata": {
  "kernelspec": {
   "display_name": "Python 3",
   "language": "python",
   "name": "python3"
  },
  "language_info": {
   "codemirror_mode": {
    "name": "ipython",
    "version": 3
   },
   "file_extension": ".py",
   "mimetype": "text/x-python",
   "name": "python",
   "nbconvert_exporter": "python",
   "pygments_lexer": "ipython3",
   "version": "3.11.6"
  }
 },
 "nbformat": 4,
 "nbformat_minor": 5
}
